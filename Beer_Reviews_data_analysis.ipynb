{
  "nbformat": 4,
  "nbformat_minor": 0,
  "metadata": {
    "colab": {
      "name": "Beer_Reviews_data analysis.ipynb",
      "provenance": [],
      "toc_visible": true
    },
    "kernelspec": {
      "name": "python3",
      "display_name": "Python 3"
    }
  },
  "cells": [
    {
      "cell_type": "markdown",
      "metadata": {
        "id": "5hpFFDEi7Fwr"
      },
      "source": [
        "##Beer Reviews Data Analysis using Machine Learning and exploratory data visulization and analysis techniques"
      ]
    },
    {
      "cell_type": "code",
      "metadata": {
        "id": "5954QvOm6-hv"
      },
      "source": [
        "import pandas as pd\n",
        "import numpy as np\n",
        "import matplotlib.pyplot as plt\n",
        "import seaborn as sns\n",
        "import plotly\n",
        "import plotly.graph_objs as plgo\n",
        "import plotly.figure_factory as plff"
      ],
      "execution_count": null,
      "outputs": []
    },
    {
      "cell_type": "code",
      "metadata": {
        "colab": {
          "base_uri": "https://localhost:8080/",
          "height": 333
        },
        "id": "RADSKsFOB8-E",
        "outputId": "90d21543-1b3e-41c2-ce01-f46a19a4511b"
      },
      "source": [
        "reviews = pd.read_csv('drive/My Drive/beer_reviews.csv')\n",
        "reviews.head()"
      ],
      "execution_count": null,
      "outputs": [
        {
          "output_type": "execute_result",
          "data": {
            "text/html": [
              "<div>\n",
              "<style scoped>\n",
              "    .dataframe tbody tr th:only-of-type {\n",
              "        vertical-align: middle;\n",
              "    }\n",
              "\n",
              "    .dataframe tbody tr th {\n",
              "        vertical-align: top;\n",
              "    }\n",
              "\n",
              "    .dataframe thead th {\n",
              "        text-align: right;\n",
              "    }\n",
              "</style>\n",
              "<table border=\"1\" class=\"dataframe\">\n",
              "  <thead>\n",
              "    <tr style=\"text-align: right;\">\n",
              "      <th></th>\n",
              "      <th>brewery_id</th>\n",
              "      <th>brewery_name</th>\n",
              "      <th>review_time</th>\n",
              "      <th>review_overall</th>\n",
              "      <th>review_aroma</th>\n",
              "      <th>review_appearance</th>\n",
              "      <th>review_profilename</th>\n",
              "      <th>beer_style</th>\n",
              "      <th>review_palate</th>\n",
              "      <th>review_taste</th>\n",
              "      <th>beer_name</th>\n",
              "      <th>beer_abv</th>\n",
              "      <th>beer_beerid</th>\n",
              "    </tr>\n",
              "  </thead>\n",
              "  <tbody>\n",
              "    <tr>\n",
              "      <th>0</th>\n",
              "      <td>10325</td>\n",
              "      <td>Vecchio Birraio</td>\n",
              "      <td>1234817823</td>\n",
              "      <td>1.5</td>\n",
              "      <td>2.0</td>\n",
              "      <td>2.5</td>\n",
              "      <td>stcules</td>\n",
              "      <td>Hefeweizen</td>\n",
              "      <td>1.5</td>\n",
              "      <td>1.5</td>\n",
              "      <td>Sausa Weizen</td>\n",
              "      <td>5.0</td>\n",
              "      <td>47986</td>\n",
              "    </tr>\n",
              "    <tr>\n",
              "      <th>1</th>\n",
              "      <td>10325</td>\n",
              "      <td>Vecchio Birraio</td>\n",
              "      <td>1235915097</td>\n",
              "      <td>3.0</td>\n",
              "      <td>2.5</td>\n",
              "      <td>3.0</td>\n",
              "      <td>stcules</td>\n",
              "      <td>English Strong Ale</td>\n",
              "      <td>3.0</td>\n",
              "      <td>3.0</td>\n",
              "      <td>Red Moon</td>\n",
              "      <td>6.2</td>\n",
              "      <td>48213</td>\n",
              "    </tr>\n",
              "    <tr>\n",
              "      <th>2</th>\n",
              "      <td>10325</td>\n",
              "      <td>Vecchio Birraio</td>\n",
              "      <td>1235916604</td>\n",
              "      <td>3.0</td>\n",
              "      <td>2.5</td>\n",
              "      <td>3.0</td>\n",
              "      <td>stcules</td>\n",
              "      <td>Foreign / Export Stout</td>\n",
              "      <td>3.0</td>\n",
              "      <td>3.0</td>\n",
              "      <td>Black Horse Black Beer</td>\n",
              "      <td>6.5</td>\n",
              "      <td>48215</td>\n",
              "    </tr>\n",
              "    <tr>\n",
              "      <th>3</th>\n",
              "      <td>10325</td>\n",
              "      <td>Vecchio Birraio</td>\n",
              "      <td>1234725145</td>\n",
              "      <td>3.0</td>\n",
              "      <td>3.0</td>\n",
              "      <td>3.5</td>\n",
              "      <td>stcules</td>\n",
              "      <td>German Pilsener</td>\n",
              "      <td>2.5</td>\n",
              "      <td>3.0</td>\n",
              "      <td>Sausa Pils</td>\n",
              "      <td>5.0</td>\n",
              "      <td>47969</td>\n",
              "    </tr>\n",
              "    <tr>\n",
              "      <th>4</th>\n",
              "      <td>1075</td>\n",
              "      <td>Caldera Brewing Company</td>\n",
              "      <td>1293735206</td>\n",
              "      <td>4.0</td>\n",
              "      <td>4.5</td>\n",
              "      <td>4.0</td>\n",
              "      <td>johnmichaelsen</td>\n",
              "      <td>American Double / Imperial IPA</td>\n",
              "      <td>4.0</td>\n",
              "      <td>4.5</td>\n",
              "      <td>Cauldron DIPA</td>\n",
              "      <td>7.7</td>\n",
              "      <td>64883</td>\n",
              "    </tr>\n",
              "  </tbody>\n",
              "</table>\n",
              "</div>"
            ],
            "text/plain": [
              "   brewery_id             brewery_name  ...  beer_abv  beer_beerid\n",
              "0       10325          Vecchio Birraio  ...       5.0        47986\n",
              "1       10325          Vecchio Birraio  ...       6.2        48213\n",
              "2       10325          Vecchio Birraio  ...       6.5        48215\n",
              "3       10325          Vecchio Birraio  ...       5.0        47969\n",
              "4        1075  Caldera Brewing Company  ...       7.7        64883\n",
              "\n",
              "[5 rows x 13 columns]"
            ]
          },
          "metadata": {
            "tags": []
          },
          "execution_count": 93
        }
      ]
    },
    {
      "cell_type": "markdown",
      "metadata": {
        "id": "zIUCwCDVI7aj"
      },
      "source": [
        "### About Dataset"
      ]
    },
    {
      "cell_type": "code",
      "metadata": {
        "colab": {
          "base_uri": "https://localhost:8080/"
        },
        "id": "IbeyrmG7CZYa",
        "outputId": "9486dcfa-3045-4d53-993e-f75770865e08"
      },
      "source": [
        "reviews.shape"
      ],
      "execution_count": null,
      "outputs": [
        {
          "output_type": "execute_result",
          "data": {
            "text/plain": [
              "(1586614, 13)"
            ]
          },
          "metadata": {
            "tags": []
          },
          "execution_count": 94
        }
      ]
    },
    {
      "cell_type": "markdown",
      "metadata": {
        "id": "pubEeSTvEn2u"
      },
      "source": [
        "There are almost 1.5 million entries on the reviews of the beer and have 13 attributes repreesenting the data"
      ]
    },
    {
      "cell_type": "code",
      "metadata": {
        "colab": {
          "base_uri": "https://localhost:8080/"
        },
        "id": "BI21txidEWgs",
        "outputId": "1676a774-0c92-422e-86a6-44a2a9bf2c4d"
      },
      "source": [
        "reviews.columns"
      ],
      "execution_count": null,
      "outputs": [
        {
          "output_type": "execute_result",
          "data": {
            "text/plain": [
              "Index(['brewery_id', 'brewery_name', 'review_time', 'review_overall',\n",
              "       'review_aroma', 'review_appearance', 'review_profilename', 'beer_style',\n",
              "       'review_palate', 'review_taste', 'beer_name', 'beer_abv',\n",
              "       'beer_beerid'],\n",
              "      dtype='object')"
            ]
          },
          "metadata": {
            "tags": []
          },
          "execution_count": 95
        }
      ]
    },
    {
      "cell_type": "code",
      "metadata": {
        "colab": {
          "base_uri": "https://localhost:8080/"
        },
        "id": "Vr0E3_ocFOGJ",
        "outputId": "1efa169e-fd00-4c12-adb5-884d8362080d"
      },
      "source": [
        "print('Information about the columns; type,entries,missing value info:  \\n')\n",
        "print(reviews.info())"
      ],
      "execution_count": null,
      "outputs": [
        {
          "output_type": "stream",
          "text": [
            "Information about the columns; type,entries,missing value info:  \n",
            "\n",
            "<class 'pandas.core.frame.DataFrame'>\n",
            "RangeIndex: 1586614 entries, 0 to 1586613\n",
            "Data columns (total 13 columns):\n",
            " #   Column              Non-Null Count    Dtype  \n",
            "---  ------              --------------    -----  \n",
            " 0   brewery_id          1586614 non-null  int64  \n",
            " 1   brewery_name        1586599 non-null  object \n",
            " 2   review_time         1586614 non-null  int64  \n",
            " 3   review_overall      1586614 non-null  float64\n",
            " 4   review_aroma        1586614 non-null  float64\n",
            " 5   review_appearance   1586614 non-null  float64\n",
            " 6   review_profilename  1586266 non-null  object \n",
            " 7   beer_style          1586614 non-null  object \n",
            " 8   review_palate       1586614 non-null  float64\n",
            " 9   review_taste        1586614 non-null  float64\n",
            " 10  beer_name           1586614 non-null  object \n",
            " 11  beer_abv            1518829 non-null  float64\n",
            " 12  beer_beerid         1586614 non-null  int64  \n",
            "dtypes: float64(6), int64(3), object(4)\n",
            "memory usage: 157.4+ MB\n",
            "None\n"
          ],
          "name": "stdout"
        }
      ]
    },
    {
      "cell_type": "code",
      "metadata": {
        "colab": {
          "base_uri": "https://localhost:8080/"
        },
        "id": "YClwO5d5FoXu",
        "outputId": "66690b44-4b11-4c01-8d5d-82ff05f0df79"
      },
      "source": [
        "## Counting unqiueness by Brewery/Company\n",
        "print('No of unique brewery by name:', reviews.brewery_name.nunique())\n",
        "print('No of unique brewery by ids:',reviews.brewery_id.nunique())"
      ],
      "execution_count": null,
      "outputs": [
        {
          "output_type": "stream",
          "text": [
            "No of unique brewery by name: 5742\n",
            "No of unique brewery by ids: 5840\n"
          ],
          "name": "stdout"
        }
      ]
    },
    {
      "cell_type": "code",
      "metadata": {
        "colab": {
          "base_uri": "https://localhost:8080/"
        },
        "id": "EpJJZWNbG9YV",
        "outputId": "fed1082c-6bd1-4488-c2d2-7254a91157a9"
      },
      "source": [
        "## Counting uniqueness by Beer\n",
        "print('No of unique beer by name:', reviews.beer_name.nunique())\n",
        "print('No of unique beer by ids:',reviews.beer_beerid.nunique())"
      ],
      "execution_count": null,
      "outputs": [
        {
          "output_type": "stream",
          "text": [
            "No of unique beer by name: 56857\n",
            "No of unique beer by ids: 66055\n"
          ],
          "name": "stdout"
        }
      ]
    },
    {
      "cell_type": "code",
      "metadata": {
        "colab": {
          "base_uri": "https://localhost:8080/"
        },
        "id": "wJ9XNmyfHQmJ",
        "outputId": "cb9c16c3-fa94-4dd1-da17-2a7261972ac2"
      },
      "source": [
        "## Counting number of users,reviewed the beer\n",
        "print('No of unique users, reviewing the given beers: ',reviews.review_profilename.nunique())"
      ],
      "execution_count": null,
      "outputs": [
        {
          "output_type": "stream",
          "text": [
            "No of unique users, reviewing the given beers:  33387\n"
          ],
          "name": "stdout"
        }
      ]
    },
    {
      "cell_type": "markdown",
      "metadata": {
        "id": "E5DGywvUID8m"
      },
      "source": [
        "So, in nutshell, These dataset contains 1.5 million reviews of around more than 60 thousand beers and which are considered from more than 5 thousand breweries"
      ]
    },
    {
      "cell_type": "markdown",
      "metadata": {
        "id": "RhJKvkAnJDeN"
      },
      "source": [
        "### Data Preprocessing"
      ]
    },
    {
      "cell_type": "markdown",
      "metadata": {
        "id": "pl2nHAZBQP6d"
      },
      "source": [
        "Handling Missing values"
      ]
    },
    {
      "cell_type": "code",
      "metadata": {
        "colab": {
          "base_uri": "https://localhost:8080/"
        },
        "id": "W2i0KQu4H8VH",
        "outputId": "8e4096d6-e86d-40ee-edf1-6564e5194781"
      },
      "source": [
        "print(\"Missing values in Dataset: /n\", reviews.isnull().sum())"
      ],
      "execution_count": null,
      "outputs": [
        {
          "output_type": "stream",
          "text": [
            "Missing values in Dataset: /n brewery_id                0\n",
            "brewery_name             15\n",
            "review_time               0\n",
            "review_overall            0\n",
            "review_aroma              0\n",
            "review_appearance         0\n",
            "review_profilename      348\n",
            "beer_style                0\n",
            "review_palate             0\n",
            "review_taste              0\n",
            "beer_name                 0\n",
            "beer_abv              67785\n",
            "beer_beerid               0\n",
            "dtype: int64\n"
          ],
          "name": "stdout"
        }
      ]
    },
    {
      "cell_type": "code",
      "metadata": {
        "colab": {
          "base_uri": "https://localhost:8080/"
        },
        "id": "xjBKZuWwJZAd",
        "outputId": "ba60f4f4-8713-465f-c8b5-c3d53cc6e8fe"
      },
      "source": [
        "reviews = reviews.dropna(axis = 0)\n",
        "print(\"After removing the missing entries in dataset: /n\", reviews.info())"
      ],
      "execution_count": null,
      "outputs": [
        {
          "output_type": "stream",
          "text": [
            "<class 'pandas.core.frame.DataFrame'>\n",
            "Int64Index: 1518478 entries, 0 to 1586613\n",
            "Data columns (total 13 columns):\n",
            " #   Column              Non-Null Count    Dtype  \n",
            "---  ------              --------------    -----  \n",
            " 0   brewery_id          1518478 non-null  int64  \n",
            " 1   brewery_name        1518478 non-null  object \n",
            " 2   review_time         1518478 non-null  int64  \n",
            " 3   review_overall      1518478 non-null  float64\n",
            " 4   review_aroma        1518478 non-null  float64\n",
            " 5   review_appearance   1518478 non-null  float64\n",
            " 6   review_profilename  1518478 non-null  object \n",
            " 7   beer_style          1518478 non-null  object \n",
            " 8   review_palate       1518478 non-null  float64\n",
            " 9   review_taste        1518478 non-null  float64\n",
            " 10  beer_name           1518478 non-null  object \n",
            " 11  beer_abv            1518478 non-null  float64\n",
            " 12  beer_beerid         1518478 non-null  int64  \n",
            "dtypes: float64(6), int64(3), object(4)\n",
            "memory usage: 162.2+ MB\n",
            "After removing the missing entries in dataset: /n None\n"
          ],
          "name": "stdout"
        }
      ]
    },
    {
      "cell_type": "markdown",
      "metadata": {
        "id": "iDaxECN6Qdrm"
      },
      "source": [
        "Handling Duplicate values"
      ]
    },
    {
      "cell_type": "code",
      "metadata": {
        "colab": {
          "base_uri": "https://localhost:8080/"
        },
        "id": "kqzMDPI2QcgR",
        "outputId": "950374bc-d70d-4be7-fe06-450f424913d5"
      },
      "source": [
        "print('User reviewed one beer more than ones,categorised by beer name: \\n', \n",
        "      reviews.loc[reviews.duplicated(['review_profilename','beer_name'],keep= False)])"
      ],
      "execution_count": null,
      "outputs": [
        {
          "output_type": "stream",
          "text": [
            "User reviewed one beer more than ones,categorised by beer name: \n",
            "          brewery_id                 brewery_name  ...  beer_abv  beer_beerid\n",
            "187            1075      Caldera Brewing Company  ...       5.5        25414\n",
            "199            1075      Caldera Brewing Company  ...       5.5        25414\n",
            "389            1075      Caldera Brewing Company  ...       6.1        10784\n",
            "426            1075      Caldera Brewing Company  ...       6.1        10784\n",
            "804            1075      Caldera Brewing Company  ...       5.4        10785\n",
            "...             ...                          ...  ...       ...          ...\n",
            "1586560       14359  The Defiant Brewing Company  ...       6.2        35185\n",
            "1586563       14359  The Defiant Brewing Company  ...       6.2        35185\n",
            "1586564       14359  The Defiant Brewing Company  ...       6.2        35185\n",
            "1586580       14359  The Defiant Brewing Company  ...       5.5        36388\n",
            "1586581       14359  The Defiant Brewing Company  ...       5.5        36388\n",
            "\n",
            "[41425 rows x 13 columns]\n"
          ],
          "name": "stdout"
        }
      ]
    },
    {
      "cell_type": "code",
      "metadata": {
        "colab": {
          "base_uri": "https://localhost:8080/"
        },
        "id": "q930f3cGRNjH",
        "outputId": "9ee8d96f-41e8-420b-8fc4-f32836f53051"
      },
      "source": [
        "print('User reviewed one beer more than ones,categorised by beer ids: \\n',\n",
        "      reviews.loc[reviews.duplicated(['review_profilename','beer_beerid'],keep=False)])"
      ],
      "execution_count": null,
      "outputs": [
        {
          "output_type": "stream",
          "text": [
            "User reviewed one beer more than ones,categorised by beer ids: \n",
            "          brewery_id                 brewery_name  ...  beer_abv  beer_beerid\n",
            "187            1075      Caldera Brewing Company  ...      5.50        25414\n",
            "199            1075      Caldera Brewing Company  ...      5.50        25414\n",
            "389            1075      Caldera Brewing Company  ...      6.10        10784\n",
            "426            1075      Caldera Brewing Company  ...      6.10        10784\n",
            "804            1075      Caldera Brewing Company  ...      5.40        10785\n",
            "...             ...                          ...  ...       ...          ...\n",
            "1585815        3835          Drake's Brewing Co.  ...      8.75        12172\n",
            "1586013        3835          Drake's Brewing Co.  ...      5.20        25095\n",
            "1586027        3835          Drake's Brewing Co.  ...      5.20        25095\n",
            "1586580       14359  The Defiant Brewing Company  ...      5.50        36388\n",
            "1586581       14359  The Defiant Brewing Company  ...      5.50        36388\n",
            "\n",
            "[28379 rows x 13 columns]\n"
          ],
          "name": "stdout"
        }
      ]
    },
    {
      "cell_type": "code",
      "metadata": {
        "id": "qoUUd6uwSqCV"
      },
      "source": [
        "## Sorting the ratings with descending order,so that with removing duplicates for beer reviews,user gave highest ratings entry can be kept\n",
        "reviews = reviews.sort_values('review_overall',ascending= False)"
      ],
      "execution_count": null,
      "outputs": []
    },
    {
      "cell_type": "code",
      "metadata": {
        "colab": {
          "base_uri": "https://localhost:8080/"
        },
        "id": "-6qwUQtLTfDc",
        "outputId": "0491f6be-7989-4ad1-8199-4d3aabc9dc0e"
      },
      "source": [
        "## Removing the duplicates\n",
        "reviews = reviews.drop_duplicates(subset=['review_profilename','beer_name'],keep = 'first')\n",
        "reviews = reviews.drop_duplicates(subset=['review_profilename','beer_beerid'],keep = 'first')\n",
        "reviews.shape"
      ],
      "execution_count": null,
      "outputs": [
        {
          "output_type": "execute_result",
          "data": {
            "text/plain": [
              "(1496263, 13)"
            ]
          },
          "metadata": {
            "tags": []
          },
          "execution_count": 105
        }
      ]
    },
    {
      "cell_type": "code",
      "metadata": {
        "colab": {
          "base_uri": "https://localhost:8080/",
          "height": 284
        },
        "id": "I6OsSNJCTiMy",
        "outputId": "4324aa33-c0ba-4a59-b19c-291214b432c7"
      },
      "source": [
        "round(reviews.describe())"
      ],
      "execution_count": null,
      "outputs": [
        {
          "output_type": "execute_result",
          "data": {
            "text/html": [
              "<div>\n",
              "<style scoped>\n",
              "    .dataframe tbody tr th:only-of-type {\n",
              "        vertical-align: middle;\n",
              "    }\n",
              "\n",
              "    .dataframe tbody tr th {\n",
              "        vertical-align: top;\n",
              "    }\n",
              "\n",
              "    .dataframe thead th {\n",
              "        text-align: right;\n",
              "    }\n",
              "</style>\n",
              "<table border=\"1\" class=\"dataframe\">\n",
              "  <thead>\n",
              "    <tr style=\"text-align: right;\">\n",
              "      <th></th>\n",
              "      <th>brewery_id</th>\n",
              "      <th>review_time</th>\n",
              "      <th>review_overall</th>\n",
              "      <th>review_aroma</th>\n",
              "      <th>review_appearance</th>\n",
              "      <th>review_palate</th>\n",
              "      <th>review_taste</th>\n",
              "      <th>beer_abv</th>\n",
              "      <th>beer_beerid</th>\n",
              "    </tr>\n",
              "  </thead>\n",
              "  <tbody>\n",
              "    <tr>\n",
              "      <th>count</th>\n",
              "      <td>1496263.0</td>\n",
              "      <td>1.496263e+06</td>\n",
              "      <td>1496263.0</td>\n",
              "      <td>1496263.0</td>\n",
              "      <td>1496263.0</td>\n",
              "      <td>1496263.0</td>\n",
              "      <td>1496263.0</td>\n",
              "      <td>1496263.0</td>\n",
              "      <td>1496263.0</td>\n",
              "    </tr>\n",
              "    <tr>\n",
              "      <th>mean</th>\n",
              "      <td>3069.0</td>\n",
              "      <td>1.225547e+09</td>\n",
              "      <td>4.0</td>\n",
              "      <td>4.0</td>\n",
              "      <td>4.0</td>\n",
              "      <td>4.0</td>\n",
              "      <td>4.0</td>\n",
              "      <td>7.0</td>\n",
              "      <td>21445.0</td>\n",
              "    </tr>\n",
              "    <tr>\n",
              "      <th>std</th>\n",
              "      <td>5542.0</td>\n",
              "      <td>7.574836e+07</td>\n",
              "      <td>1.0</td>\n",
              "      <td>1.0</td>\n",
              "      <td>1.0</td>\n",
              "      <td>1.0</td>\n",
              "      <td>1.0</td>\n",
              "      <td>2.0</td>\n",
              "      <td>21801.0</td>\n",
              "    </tr>\n",
              "    <tr>\n",
              "      <th>min</th>\n",
              "      <td>1.0</td>\n",
              "      <td>8.843904e+08</td>\n",
              "      <td>0.0</td>\n",
              "      <td>1.0</td>\n",
              "      <td>0.0</td>\n",
              "      <td>1.0</td>\n",
              "      <td>1.0</td>\n",
              "      <td>0.0</td>\n",
              "      <td>5.0</td>\n",
              "    </tr>\n",
              "    <tr>\n",
              "      <th>25%</th>\n",
              "      <td>141.0</td>\n",
              "      <td>1.175877e+09</td>\n",
              "      <td>4.0</td>\n",
              "      <td>4.0</td>\n",
              "      <td>4.0</td>\n",
              "      <td>4.0</td>\n",
              "      <td>4.0</td>\n",
              "      <td>5.0</td>\n",
              "      <td>1655.0</td>\n",
              "    </tr>\n",
              "    <tr>\n",
              "      <th>50%</th>\n",
              "      <td>413.0</td>\n",
              "      <td>1.240543e+09</td>\n",
              "      <td>4.0</td>\n",
              "      <td>4.0</td>\n",
              "      <td>4.0</td>\n",
              "      <td>4.0</td>\n",
              "      <td>4.0</td>\n",
              "      <td>6.0</td>\n",
              "      <td>12962.0</td>\n",
              "    </tr>\n",
              "    <tr>\n",
              "      <th>75%</th>\n",
              "      <td>2250.0</td>\n",
              "      <td>1.289228e+09</td>\n",
              "      <td>4.0</td>\n",
              "      <td>4.0</td>\n",
              "      <td>4.0</td>\n",
              "      <td>4.0</td>\n",
              "      <td>4.0</td>\n",
              "      <td>8.0</td>\n",
              "      <td>39286.0</td>\n",
              "    </tr>\n",
              "    <tr>\n",
              "      <th>max</th>\n",
              "      <td>28003.0</td>\n",
              "      <td>1.326285e+09</td>\n",
              "      <td>5.0</td>\n",
              "      <td>5.0</td>\n",
              "      <td>5.0</td>\n",
              "      <td>5.0</td>\n",
              "      <td>5.0</td>\n",
              "      <td>58.0</td>\n",
              "      <td>77316.0</td>\n",
              "    </tr>\n",
              "  </tbody>\n",
              "</table>\n",
              "</div>"
            ],
            "text/plain": [
              "       brewery_id   review_time  ...   beer_abv  beer_beerid\n",
              "count   1496263.0  1.496263e+06  ...  1496263.0    1496263.0\n",
              "mean       3069.0  1.225547e+09  ...        7.0      21445.0\n",
              "std        5542.0  7.574836e+07  ...        2.0      21801.0\n",
              "min           1.0  8.843904e+08  ...        0.0          5.0\n",
              "25%         141.0  1.175877e+09  ...        5.0       1655.0\n",
              "50%         413.0  1.240543e+09  ...        6.0      12962.0\n",
              "75%        2250.0  1.289228e+09  ...        8.0      39286.0\n",
              "max       28003.0  1.326285e+09  ...       58.0      77316.0\n",
              "\n",
              "[8 rows x 9 columns]"
            ]
          },
          "metadata": {
            "tags": []
          },
          "execution_count": 106
        }
      ]
    },
    {
      "cell_type": "markdown",
      "metadata": {
        "id": "s8nMo7VZVyvj"
      },
      "source": [
        "In the dataset, review time column has datatype of int64, converting it in form of datetime format"
      ]
    },
    {
      "cell_type": "code",
      "metadata": {
        "colab": {
          "base_uri": "https://localhost:8080/"
        },
        "id": "b4EXgmW4VTZd",
        "outputId": "f8d5fda0-f535-4aa5-a1f2-4cfc5114c605"
      },
      "source": [
        "reviews.review_time = pd.to_datetime(reviews.review_time,unit = 's')\n",
        "reviews.dtypes"
      ],
      "execution_count": null,
      "outputs": [
        {
          "output_type": "execute_result",
          "data": {
            "text/plain": [
              "brewery_id                     int64\n",
              "brewery_name                  object\n",
              "review_time           datetime64[ns]\n",
              "review_overall               float64\n",
              "review_aroma                 float64\n",
              "review_appearance            float64\n",
              "review_profilename            object\n",
              "beer_style                    object\n",
              "review_palate                float64\n",
              "review_taste                 float64\n",
              "beer_name                     object\n",
              "beer_abv                     float64\n",
              "beer_beerid                    int64\n",
              "dtype: object"
            ]
          },
          "metadata": {
            "tags": []
          },
          "execution_count": 107
        }
      ]
    },
    {
      "cell_type": "markdown",
      "metadata": {
        "id": "rUONj3ozXEm6"
      },
      "source": [
        "### Data visualization and analysis"
      ]
    },
    {
      "cell_type": "code",
      "metadata": {
        "colab": {
          "base_uri": "https://localhost:8080/",
          "height": 1000
        },
        "id": "k9BE53qPXXY0",
        "outputId": "44451de0-c85b-4ccf-d1fd-3e395e52893f"
      },
      "source": [
        "reviews.hist(figsize = (20,20))"
      ],
      "execution_count": null,
      "outputs": [
        {
          "output_type": "execute_result",
          "data": {
            "text/plain": [
              "array([[<matplotlib.axes._subplots.AxesSubplot object at 0x7fdad84f8d30>,\n",
              "        <matplotlib.axes._subplots.AxesSubplot object at 0x7fdad849ea20>,\n",
              "        <matplotlib.axes._subplots.AxesSubplot object at 0x7fdad84cec88>],\n",
              "       [<matplotlib.axes._subplots.AxesSubplot object at 0x7fdad8477f98>,\n",
              "        <matplotlib.axes._subplots.AxesSubplot object at 0x7fdad8433240>,\n",
              "        <matplotlib.axes._subplots.AxesSubplot object at 0x7fdad83e54a8>],\n",
              "       [<matplotlib.axes._subplots.AxesSubplot object at 0x7fdad8414710>,\n",
              "        <matplotlib.axes._subplots.AxesSubplot object at 0x7fdad83c5940>,\n",
              "        <matplotlib.axes._subplots.AxesSubplot object at 0x7fdad83c59b0>]],\n",
              "      dtype=object)"
            ]
          },
          "metadata": {
            "tags": []
          },
          "execution_count": 108
        },
        {
          "output_type": "display_data",
          "data": {
            "image/png": "[encoded data removed]",
            "text/plain": [
              "<Figure size 1440x1440 with 9 Axes>"
            ]
          },
          "metadata": {
            "tags": [],
            "needs_background": "light"
          }
        }
      ]
    },
    {
      "cell_type": "markdown",
      "metadata": {
        "id": "gJYVmZyRiAxJ"
      },
      "source": [
        "### Top 10 popular Brewaries w.r.t Reviews counts"
      ]
    },
    {
      "cell_type": "code",
      "metadata": {
        "colab": {
          "base_uri": "https://localhost:8080/"
        },
        "id": "ateYKUGBY6Zg",
        "outputId": "0e7f4fc5-39b6-417a-d639-f69ea4235beb"
      },
      "source": [
        "popular_brewery = reviews.groupby('brewery_name').brewery_name.count()\n",
        "popular_brewery = popular_brewery.sort_values(ascending= False)\n",
        "popular_breweries = popular_brewery.iloc[0:10]\n",
        "popular_breweries"
      ],
      "execution_count": null,
      "outputs": [
        {
          "output_type": "execute_result",
          "data": {
            "text/plain": [
              "brewery_name\n",
              "Boston Beer Company (Samuel Adams)    38533\n",
              "Dogfish Head Brewery                  33348\n",
              "Stone Brewing Co.                     32482\n",
              "Sierra Nevada Brewing Co.             28235\n",
              "Bell's Brewery, Inc.                  24611\n",
              "Rogue Ales                            22912\n",
              "Founders Brewing Company              19655\n",
              "Victory Brewing Company               19033\n",
              "Lagunitas Brewing Company             16659\n",
              "Avery Brewing Company                 15816\n",
              "Name: brewery_name, dtype: int64"
            ]
          },
          "metadata": {
            "tags": []
          },
          "execution_count": 109
        }
      ]
    },
    {
      "cell_type": "code",
      "metadata": {
        "colab": {
          "base_uri": "https://localhost:8080/",
          "height": 373
        },
        "id": "rJ52TubgahrJ",
        "outputId": "ec8ebc4a-7449-4fc0-bbd5-ee22de9c476c"
      },
      "source": [
        "Top_10_popular_breweries = pd.DataFrame(data = popular_breweries)\n",
        "Top_10_popular_breweries.columns = ['Top Brewery Name wrt to its review counts']\n",
        "Top_10_popular_breweries"
      ],
      "execution_count": null,
      "outputs": [
        {
          "output_type": "execute_result",
          "data": {
            "text/html": [
              "<div>\n",
              "<style scoped>\n",
              "    .dataframe tbody tr th:only-of-type {\n",
              "        vertical-align: middle;\n",
              "    }\n",
              "\n",
              "    .dataframe tbody tr th {\n",
              "        vertical-align: top;\n",
              "    }\n",
              "\n",
              "    .dataframe thead th {\n",
              "        text-align: right;\n",
              "    }\n",
              "</style>\n",
              "<table border=\"1\" class=\"dataframe\">\n",
              "  <thead>\n",
              "    <tr style=\"text-align: right;\">\n",
              "      <th></th>\n",
              "      <th>Top Brewery Name wrt to its review counts</th>\n",
              "    </tr>\n",
              "    <tr>\n",
              "      <th>brewery_name</th>\n",
              "      <th></th>\n",
              "    </tr>\n",
              "  </thead>\n",
              "  <tbody>\n",
              "    <tr>\n",
              "      <th>Boston Beer Company (Samuel Adams)</th>\n",
              "      <td>38533</td>\n",
              "    </tr>\n",
              "    <tr>\n",
              "      <th>Dogfish Head Brewery</th>\n",
              "      <td>33348</td>\n",
              "    </tr>\n",
              "    <tr>\n",
              "      <th>Stone Brewing Co.</th>\n",
              "      <td>32482</td>\n",
              "    </tr>\n",
              "    <tr>\n",
              "      <th>Sierra Nevada Brewing Co.</th>\n",
              "      <td>28235</td>\n",
              "    </tr>\n",
              "    <tr>\n",
              "      <th>Bell's Brewery, Inc.</th>\n",
              "      <td>24611</td>\n",
              "    </tr>\n",
              "    <tr>\n",
              "      <th>Rogue Ales</th>\n",
              "      <td>22912</td>\n",
              "    </tr>\n",
              "    <tr>\n",
              "      <th>Founders Brewing Company</th>\n",
              "      <td>19655</td>\n",
              "    </tr>\n",
              "    <tr>\n",
              "      <th>Victory Brewing Company</th>\n",
              "      <td>19033</td>\n",
              "    </tr>\n",
              "    <tr>\n",
              "      <th>Lagunitas Brewing Company</th>\n",
              "      <td>16659</td>\n",
              "    </tr>\n",
              "    <tr>\n",
              "      <th>Avery Brewing Company</th>\n",
              "      <td>15816</td>\n",
              "    </tr>\n",
              "  </tbody>\n",
              "</table>\n",
              "</div>"
            ],
            "text/plain": [
              "                                    Top Brewery Name wrt to its review counts\n",
              "brewery_name                                                                 \n",
              "Boston Beer Company (Samuel Adams)                                      38533\n",
              "Dogfish Head Brewery                                                    33348\n",
              "Stone Brewing Co.                                                       32482\n",
              "Sierra Nevada Brewing Co.                                               28235\n",
              "Bell's Brewery, Inc.                                                    24611\n",
              "Rogue Ales                                                              22912\n",
              "Founders Brewing Company                                                19655\n",
              "Victory Brewing Company                                                 19033\n",
              "Lagunitas Brewing Company                                               16659\n",
              "Avery Brewing Company                                                   15816"
            ]
          },
          "metadata": {
            "tags": []
          },
          "execution_count": 110
        }
      ]
    },
    {
      "cell_type": "markdown",
      "metadata": {
        "id": "ykdKVphiiPU1"
      },
      "source": [
        "### Top 10 Breweries with most beer types present"
      ]
    },
    {
      "cell_type": "code",
      "metadata": {
        "colab": {
          "base_uri": "https://localhost:8080/",
          "height": 373
        },
        "id": "jcnoDsCuhiPT",
        "outputId": "fb1512e2-622b-4915-9a4d-1c0305965808"
      },
      "source": [
        "top_10_breweries_by_beertype = reviews.groupby(['brewery_name']).beer_name.nunique().sort_values(ascending = False)\n",
        "top_10_breweries_by_beertype = top_10_breweries_by_beertype.iloc[0:10]\n",
        "top_10_breweries_by_beertype = pd.DataFrame(top_10_breweries_by_beertype)\n",
        "top_10_breweries_by_beertype.columns = ['Top Breweries wrt to Beer type presence']\n",
        "top_10_breweries_by_beertype"
      ],
      "execution_count": null,
      "outputs": [
        {
          "output_type": "execute_result",
          "data": {
            "text/html": [
              "<div>\n",
              "<style scoped>\n",
              "    .dataframe tbody tr th:only-of-type {\n",
              "        vertical-align: middle;\n",
              "    }\n",
              "\n",
              "    .dataframe tbody tr th {\n",
              "        vertical-align: top;\n",
              "    }\n",
              "\n",
              "    .dataframe thead th {\n",
              "        text-align: right;\n",
              "    }\n",
              "</style>\n",
              "<table border=\"1\" class=\"dataframe\">\n",
              "  <thead>\n",
              "    <tr style=\"text-align: right;\">\n",
              "      <th></th>\n",
              "      <th>Top Breweries wrt to Beer type presence</th>\n",
              "    </tr>\n",
              "    <tr>\n",
              "      <th>brewery_name</th>\n",
              "      <th></th>\n",
              "    </tr>\n",
              "  </thead>\n",
              "  <tbody>\n",
              "    <tr>\n",
              "      <th>Rock Bottom Restaurant &amp; Brewery</th>\n",
              "      <td>517</td>\n",
              "    </tr>\n",
              "    <tr>\n",
              "      <th>Goose Island Beer Co.</th>\n",
              "      <td>303</td>\n",
              "    </tr>\n",
              "    <tr>\n",
              "      <th>Iron Hill Brewery &amp; Restaurant</th>\n",
              "      <td>267</td>\n",
              "    </tr>\n",
              "    <tr>\n",
              "      <th>Minneapolis Town Hall Brewery</th>\n",
              "      <td>242</td>\n",
              "    </tr>\n",
              "    <tr>\n",
              "      <th>Port Brewing Company / Pizza Port</th>\n",
              "      <td>194</td>\n",
              "    </tr>\n",
              "    <tr>\n",
              "      <th>Mikkeller ApS</th>\n",
              "      <td>184</td>\n",
              "    </tr>\n",
              "    <tr>\n",
              "      <th>Cigar City Brewing</th>\n",
              "      <td>171</td>\n",
              "    </tr>\n",
              "    <tr>\n",
              "      <th>John Harvard's Brewery &amp; Ale House</th>\n",
              "      <td>151</td>\n",
              "    </tr>\n",
              "    <tr>\n",
              "      <th>The Bruery</th>\n",
              "      <td>143</td>\n",
              "    </tr>\n",
              "    <tr>\n",
              "      <th>Kuhnhenn Brewing Company</th>\n",
              "      <td>142</td>\n",
              "    </tr>\n",
              "  </tbody>\n",
              "</table>\n",
              "</div>"
            ],
            "text/plain": [
              "                                    Top Breweries wrt to Beer type presence\n",
              "brewery_name                                                               \n",
              "Rock Bottom Restaurant & Brewery                                        517\n",
              "Goose Island Beer Co.                                                   303\n",
              "Iron Hill Brewery & Restaurant                                          267\n",
              "Minneapolis Town Hall Brewery                                           242\n",
              "Port Brewing Company / Pizza Port                                       194\n",
              "Mikkeller ApS                                                           184\n",
              "Cigar City Brewing                                                      171\n",
              "John Harvard's Brewery & Ale House                                      151\n",
              "The Bruery                                                              143\n",
              "Kuhnhenn Brewing Company                                                142"
            ]
          },
          "metadata": {
            "tags": []
          },
          "execution_count": 111
        }
      ]
    },
    {
      "cell_type": "markdown",
      "metadata": {
        "id": "jQSfD8GfnZRR"
      },
      "source": [
        "### Top 10 popular Beers wrt reviews counts"
      ]
    },
    {
      "cell_type": "code",
      "metadata": {
        "colab": {
          "base_uri": "https://localhost:8080/",
          "height": 373
        },
        "id": "spFFzxmni1er",
        "outputId": "5e913cf0-b0e8-444a-dc6d-886a948d3cdd"
      },
      "source": [
        "top_10_popular_beers = pd.DataFrame(reviews.groupby('beer_name').beer_name.count().sort_values(ascending = False).iloc[0:10])\n",
        "top_10_popular_beers.columns = ['Beer Names wrt Reviews counts']\n",
        "top_10_popular_beers"
      ],
      "execution_count": null,
      "outputs": [
        {
          "output_type": "execute_result",
          "data": {
            "text/html": [
              "<div>\n",
              "<style scoped>\n",
              "    .dataframe tbody tr th:only-of-type {\n",
              "        vertical-align: middle;\n",
              "    }\n",
              "\n",
              "    .dataframe tbody tr th {\n",
              "        vertical-align: top;\n",
              "    }\n",
              "\n",
              "    .dataframe thead th {\n",
              "        text-align: right;\n",
              "    }\n",
              "</style>\n",
              "<table border=\"1\" class=\"dataframe\">\n",
              "  <thead>\n",
              "    <tr style=\"text-align: right;\">\n",
              "      <th></th>\n",
              "      <th>Beer Names wrt Reviews counts</th>\n",
              "    </tr>\n",
              "    <tr>\n",
              "      <th>beer_name</th>\n",
              "      <th></th>\n",
              "    </tr>\n",
              "  </thead>\n",
              "  <tbody>\n",
              "    <tr>\n",
              "      <th>90 Minute IPA</th>\n",
              "      <td>3206</td>\n",
              "    </tr>\n",
              "    <tr>\n",
              "      <th>Old Rasputin Russian Imperial Stout</th>\n",
              "      <td>3038</td>\n",
              "    </tr>\n",
              "    <tr>\n",
              "      <th>Sierra Nevada Celebration Ale</th>\n",
              "      <td>2929</td>\n",
              "    </tr>\n",
              "    <tr>\n",
              "      <th>Stone Ruination IPA</th>\n",
              "      <td>2644</td>\n",
              "    </tr>\n",
              "    <tr>\n",
              "      <th>Arrogant Bastard Ale</th>\n",
              "      <td>2633</td>\n",
              "    </tr>\n",
              "    <tr>\n",
              "      <th>Two Hearted Ale</th>\n",
              "      <td>2631</td>\n",
              "    </tr>\n",
              "    <tr>\n",
              "      <th>Stone IPA (India Pale Ale)</th>\n",
              "      <td>2526</td>\n",
              "    </tr>\n",
              "    <tr>\n",
              "      <th>Sierra Nevada Pale Ale</th>\n",
              "      <td>2526</td>\n",
              "    </tr>\n",
              "    <tr>\n",
              "      <th>La Fin Du Monde</th>\n",
              "      <td>2480</td>\n",
              "    </tr>\n",
              "    <tr>\n",
              "      <th>Duvel</th>\n",
              "      <td>2448</td>\n",
              "    </tr>\n",
              "  </tbody>\n",
              "</table>\n",
              "</div>"
            ],
            "text/plain": [
              "                                     Beer Names wrt Reviews counts\n",
              "beer_name                                                         \n",
              "90 Minute IPA                                                 3206\n",
              "Old Rasputin Russian Imperial Stout                           3038\n",
              "Sierra Nevada Celebration Ale                                 2929\n",
              "Stone Ruination IPA                                           2644\n",
              "Arrogant Bastard Ale                                          2633\n",
              "Two Hearted Ale                                               2631\n",
              "Stone IPA (India Pale Ale)                                    2526\n",
              "Sierra Nevada Pale Ale                                        2526\n",
              "La Fin Du Monde                                               2480\n",
              "Duvel                                                         2448"
            ]
          },
          "metadata": {
            "tags": []
          },
          "execution_count": 112
        }
      ]
    },
    {
      "cell_type": "markdown",
      "metadata": {
        "id": "VleWayoGpTPs"
      },
      "source": [
        "### Top 10 beers with Highest Ratings"
      ]
    },
    {
      "cell_type": "code",
      "metadata": {
        "colab": {
          "base_uri": "https://localhost:8080/",
          "height": 343
        },
        "id": "2X7KXrHXoVe7",
        "outputId": "3d60393a-aa18-485e-c50c-00eebde6a566"
      },
      "source": [
        "Top_beer_ratings = reviews[['beer_name','review_overall']].groupby('beer_name').review_overall.agg('mean').sort_values(ascending = False)\n",
        "Top_beer_ratings = Top_beer_ratings.iloc[0:10]\n",
        "Top_beer_ratings.reset_index()"
      ],
      "execution_count": null,
      "outputs": [
        {
          "output_type": "execute_result",
          "data": {
            "text/html": [
              "<div>\n",
              "<style scoped>\n",
              "    .dataframe tbody tr th:only-of-type {\n",
              "        vertical-align: middle;\n",
              "    }\n",
              "\n",
              "    .dataframe tbody tr th {\n",
              "        vertical-align: top;\n",
              "    }\n",
              "\n",
              "    .dataframe thead th {\n",
              "        text-align: right;\n",
              "    }\n",
              "</style>\n",
              "<table border=\"1\" class=\"dataframe\">\n",
              "  <thead>\n",
              "    <tr style=\"text-align: right;\">\n",
              "      <th></th>\n",
              "      <th>beer_name</th>\n",
              "      <th>review_overall</th>\n",
              "    </tr>\n",
              "  </thead>\n",
              "  <tbody>\n",
              "    <tr>\n",
              "      <th>0</th>\n",
              "      <td>Kringle's Imperial Stout</td>\n",
              "      <td>5.0</td>\n",
              "    </tr>\n",
              "    <tr>\n",
              "      <th>1</th>\n",
              "      <td>Sans Culottes Belgian Trippel</td>\n",
              "      <td>5.0</td>\n",
              "    </tr>\n",
              "    <tr>\n",
              "      <th>2</th>\n",
              "      <td>Five Generations</td>\n",
              "      <td>5.0</td>\n",
              "    </tr>\n",
              "    <tr>\n",
              "      <th>3</th>\n",
              "      <td>St Piran's Ale</td>\n",
              "      <td>5.0</td>\n",
              "    </tr>\n",
              "    <tr>\n",
              "      <th>4</th>\n",
              "      <td>WheatWine</td>\n",
              "      <td>5.0</td>\n",
              "    </tr>\n",
              "    <tr>\n",
              "      <th>5</th>\n",
              "      <td>Ziguljovskoje Helles Bier</td>\n",
              "      <td>5.0</td>\n",
              "    </tr>\n",
              "    <tr>\n",
              "      <th>6</th>\n",
              "      <td>Wheelie</td>\n",
              "      <td>5.0</td>\n",
              "    </tr>\n",
              "    <tr>\n",
              "      <th>7</th>\n",
              "      <td>Final Countdown</td>\n",
              "      <td>5.0</td>\n",
              "    </tr>\n",
              "    <tr>\n",
              "      <th>8</th>\n",
              "      <td>Batch 999 In Hops We Trust</td>\n",
              "      <td>5.0</td>\n",
              "    </tr>\n",
              "    <tr>\n",
              "      <th>9</th>\n",
              "      <td>Fifty Not Out</td>\n",
              "      <td>5.0</td>\n",
              "    </tr>\n",
              "  </tbody>\n",
              "</table>\n",
              "</div>"
            ],
            "text/plain": [
              "                       beer_name  review_overall\n",
              "0       Kringle's Imperial Stout             5.0\n",
              "1  Sans Culottes Belgian Trippel             5.0\n",
              "2               Five Generations             5.0\n",
              "3                 St Piran's Ale             5.0\n",
              "4                      WheatWine             5.0\n",
              "5      Ziguljovskoje Helles Bier             5.0\n",
              "6                        Wheelie             5.0\n",
              "7                Final Countdown             5.0\n",
              "8     Batch 999 In Hops We Trust             5.0\n",
              "9                  Fifty Not Out             5.0"
            ]
          },
          "metadata": {
            "tags": []
          },
          "execution_count": 113
        }
      ]
    },
    {
      "cell_type": "markdown",
      "metadata": {
        "id": "u1BrWCfXtbZi"
      },
      "source": [
        "### Top 10 popular Beer styles"
      ]
    },
    {
      "cell_type": "code",
      "metadata": {
        "id": "n-c_uua_p4ji",
        "colab": {
          "base_uri": "https://localhost:8080/",
          "height": 373
        },
        "outputId": "3d2096fb-2f32-4384-f277-30b0dfab28a1"
      },
      "source": [
        "popular_beer_styles = pd.DataFrame(reviews.groupby('beer_style').beer_style.count().sort_values(ascending = False).iloc[0:10])\n",
        "popular_beer_styles.columns = ['Beer Styles wrt review counts']\n",
        "popular_beer_styles"
      ],
      "execution_count": null,
      "outputs": [
        {
          "output_type": "execute_result",
          "data": {
            "text/html": [
              "<div>\n",
              "<style scoped>\n",
              "    .dataframe tbody tr th:only-of-type {\n",
              "        vertical-align: middle;\n",
              "    }\n",
              "\n",
              "    .dataframe tbody tr th {\n",
              "        vertical-align: top;\n",
              "    }\n",
              "\n",
              "    .dataframe thead th {\n",
              "        text-align: right;\n",
              "    }\n",
              "</style>\n",
              "<table border=\"1\" class=\"dataframe\">\n",
              "  <thead>\n",
              "    <tr style=\"text-align: right;\">\n",
              "      <th></th>\n",
              "      <th>Beer Styles wrt review counts</th>\n",
              "    </tr>\n",
              "    <tr>\n",
              "      <th>beer_style</th>\n",
              "      <th></th>\n",
              "    </tr>\n",
              "  </thead>\n",
              "  <tbody>\n",
              "    <tr>\n",
              "      <th>American IPA</th>\n",
              "      <td>110451</td>\n",
              "    </tr>\n",
              "    <tr>\n",
              "      <th>American Double / Imperial IPA</th>\n",
              "      <td>83635</td>\n",
              "    </tr>\n",
              "    <tr>\n",
              "      <th>American Pale Ale (APA)</th>\n",
              "      <td>56750</td>\n",
              "    </tr>\n",
              "    <tr>\n",
              "      <th>Russian Imperial Stout</th>\n",
              "      <td>52323</td>\n",
              "    </tr>\n",
              "    <tr>\n",
              "      <th>American Double / Imperial Stout</th>\n",
              "      <td>49254</td>\n",
              "    </tr>\n",
              "    <tr>\n",
              "      <th>American Porter</th>\n",
              "      <td>45960</td>\n",
              "    </tr>\n",
              "    <tr>\n",
              "      <th>American Amber / Red Ale</th>\n",
              "      <td>41198</td>\n",
              "    </tr>\n",
              "    <tr>\n",
              "      <th>Belgian Strong Dark Ale</th>\n",
              "      <td>37181</td>\n",
              "    </tr>\n",
              "    <tr>\n",
              "      <th>Fruit / Vegetable Beer</th>\n",
              "      <td>31784</td>\n",
              "    </tr>\n",
              "    <tr>\n",
              "      <th>Belgian Strong Pale Ale</th>\n",
              "      <td>31064</td>\n",
              "    </tr>\n",
              "  </tbody>\n",
              "</table>\n",
              "</div>"
            ],
            "text/plain": [
              "                                  Beer Styles wrt review counts\n",
              "beer_style                                                     \n",
              "American IPA                                             110451\n",
              "American Double / Imperial IPA                            83635\n",
              "American Pale Ale (APA)                                   56750\n",
              "Russian Imperial Stout                                    52323\n",
              "American Double / Imperial Stout                          49254\n",
              "American Porter                                           45960\n",
              "American Amber / Red Ale                                  41198\n",
              "Belgian Strong Dark Ale                                   37181\n",
              "Fruit / Vegetable Beer                                    31784\n",
              "Belgian Strong Pale Ale                                   31064"
            ]
          },
          "metadata": {
            "tags": []
          },
          "execution_count": 114
        }
      ]
    },
    {
      "cell_type": "code",
      "metadata": {
        "colab": {
          "base_uri": "https://localhost:8080/",
          "height": 373
        },
        "id": "twLPfU4GiaZj",
        "outputId": "122c11ee-66a1-4268-a67a-9183ba1daf9c"
      },
      "source": [
        "## Beer Styles wrt top ratings\n",
        "\n",
        "Top_rating_beer_styles = reviews[['beer_style','review_overall']].groupby('beer_style').review_overall.agg('mean').sort_values(ascending = False).iloc[0:10]\n",
        "Top_rating_beer_styles = pd.DataFrame(Top_rating_beer_styles)\n",
        "Top_rating_beer_styles"
      ],
      "execution_count": null,
      "outputs": [
        {
          "output_type": "execute_result",
          "data": {
            "text/html": [
              "<div>\n",
              "<style scoped>\n",
              "    .dataframe tbody tr th:only-of-type {\n",
              "        vertical-align: middle;\n",
              "    }\n",
              "\n",
              "    .dataframe tbody tr th {\n",
              "        vertical-align: top;\n",
              "    }\n",
              "\n",
              "    .dataframe thead th {\n",
              "        text-align: right;\n",
              "    }\n",
              "</style>\n",
              "<table border=\"1\" class=\"dataframe\">\n",
              "  <thead>\n",
              "    <tr style=\"text-align: right;\">\n",
              "      <th></th>\n",
              "      <th>review_overall</th>\n",
              "    </tr>\n",
              "    <tr>\n",
              "      <th>beer_style</th>\n",
              "      <th></th>\n",
              "    </tr>\n",
              "  </thead>\n",
              "  <tbody>\n",
              "    <tr>\n",
              "      <th>American Wild Ale</th>\n",
              "      <td>4.100706</td>\n",
              "    </tr>\n",
              "    <tr>\n",
              "      <th>Gueuze</th>\n",
              "      <td>4.087288</td>\n",
              "    </tr>\n",
              "    <tr>\n",
              "      <th>Quadrupel (Quad)</th>\n",
              "      <td>4.074064</td>\n",
              "    </tr>\n",
              "    <tr>\n",
              "      <th>Lambic - Unblended</th>\n",
              "      <td>4.061896</td>\n",
              "    </tr>\n",
              "    <tr>\n",
              "      <th>American Double / Imperial Stout</th>\n",
              "      <td>4.032485</td>\n",
              "    </tr>\n",
              "    <tr>\n",
              "      <th>Russian Imperial Stout</th>\n",
              "      <td>4.028334</td>\n",
              "    </tr>\n",
              "    <tr>\n",
              "      <th>Weizenbock</th>\n",
              "      <td>4.011327</td>\n",
              "    </tr>\n",
              "    <tr>\n",
              "      <th>American Double / Imperial IPA</th>\n",
              "      <td>4.000759</td>\n",
              "    </tr>\n",
              "    <tr>\n",
              "      <th>Flanders Red Ale</th>\n",
              "      <td>3.996696</td>\n",
              "    </tr>\n",
              "    <tr>\n",
              "      <th>Keller Bier / Zwickel Bier</th>\n",
              "      <td>3.992110</td>\n",
              "    </tr>\n",
              "  </tbody>\n",
              "</table>\n",
              "</div>"
            ],
            "text/plain": [
              "                                  review_overall\n",
              "beer_style                                      \n",
              "American Wild Ale                       4.100706\n",
              "Gueuze                                  4.087288\n",
              "Quadrupel (Quad)                        4.074064\n",
              "Lambic - Unblended                      4.061896\n",
              "American Double / Imperial Stout        4.032485\n",
              "Russian Imperial Stout                  4.028334\n",
              "Weizenbock                              4.011327\n",
              "American Double / Imperial IPA          4.000759\n",
              "Flanders Red Ale                        3.996696\n",
              "Keller Bier / Zwickel Bier              3.992110"
            ]
          },
          "metadata": {
            "tags": []
          },
          "execution_count": 115
        }
      ]
    },
    {
      "cell_type": "markdown",
      "metadata": {
        "id": "4yBLUFpzvXb8"
      },
      "source": [
        "### Beers categorised as highly rated wrt appreance,aroma and taste"
      ]
    },
    {
      "cell_type": "code",
      "metadata": {
        "id": "U78u0aIcvW_s"
      },
      "source": [
        "## Aroma,taste and Appearances\n",
        "\n",
        "beers_looks_smell = reviews[['beer_name', 'review_aroma','review_appearance','review_taste']]"
      ],
      "execution_count": null,
      "outputs": []
    },
    {
      "cell_type": "code",
      "metadata": {
        "colab": {
          "base_uri": "https://localhost:8080/",
          "height": 491
        },
        "id": "QHU4qSmxyD3N",
        "outputId": "af73120a-08ab-430f-c8c3-46f66842ac8c"
      },
      "source": [
        "beer_looks_smell = beers_looks_smell.groupby('beer_name').aggregate(['max'])\n",
        "beer_looks_smell = beers_looks_smell.sort_values(by = ['review_aroma','review_appearance','review_taste'],ascending = False)\n",
        "beers_looks_smell.iloc[0:15]"
      ],
      "execution_count": null,
      "outputs": [
        {
          "output_type": "execute_result",
          "data": {
            "text/html": [
              "<div>\n",
              "<style scoped>\n",
              "    .dataframe tbody tr th:only-of-type {\n",
              "        vertical-align: middle;\n",
              "    }\n",
              "\n",
              "    .dataframe tbody tr th {\n",
              "        vertical-align: top;\n",
              "    }\n",
              "\n",
              "    .dataframe thead th {\n",
              "        text-align: right;\n",
              "    }\n",
              "</style>\n",
              "<table border=\"1\" class=\"dataframe\">\n",
              "  <thead>\n",
              "    <tr style=\"text-align: right;\">\n",
              "      <th></th>\n",
              "      <th>beer_name</th>\n",
              "      <th>review_aroma</th>\n",
              "      <th>review_appearance</th>\n",
              "      <th>review_taste</th>\n",
              "    </tr>\n",
              "  </thead>\n",
              "  <tbody>\n",
              "    <tr>\n",
              "      <th>1586613</th>\n",
              "      <td>The Horseman's Ale</td>\n",
              "      <td>4.5</td>\n",
              "      <td>4.5</td>\n",
              "      <td>4.5</td>\n",
              "    </tr>\n",
              "    <tr>\n",
              "      <th>1054114</th>\n",
              "      <td>Wittekerke</td>\n",
              "      <td>4.0</td>\n",
              "      <td>4.5</td>\n",
              "      <td>4.0</td>\n",
              "    </tr>\n",
              "    <tr>\n",
              "      <th>783659</th>\n",
              "      <td>Moe's Bender</td>\n",
              "      <td>5.0</td>\n",
              "      <td>5.0</td>\n",
              "      <td>5.0</td>\n",
              "    </tr>\n",
              "    <tr>\n",
              "      <th>783658</th>\n",
              "      <td>Moe's Bender</td>\n",
              "      <td>5.0</td>\n",
              "      <td>4.0</td>\n",
              "      <td>5.0</td>\n",
              "    </tr>\n",
              "    <tr>\n",
              "      <th>1182432</th>\n",
              "      <td>World Wide Stout</td>\n",
              "      <td>4.5</td>\n",
              "      <td>4.0</td>\n",
              "      <td>4.0</td>\n",
              "    </tr>\n",
              "    <tr>\n",
              "      <th>1182425</th>\n",
              "      <td>World Wide Stout</td>\n",
              "      <td>5.0</td>\n",
              "      <td>4.5</td>\n",
              "      <td>5.0</td>\n",
              "    </tr>\n",
              "    <tr>\n",
              "      <th>1182416</th>\n",
              "      <td>World Wide Stout</td>\n",
              "      <td>4.0</td>\n",
              "      <td>4.0</td>\n",
              "      <td>5.0</td>\n",
              "    </tr>\n",
              "    <tr>\n",
              "      <th>1182413</th>\n",
              "      <td>World Wide Stout</td>\n",
              "      <td>4.5</td>\n",
              "      <td>4.5</td>\n",
              "      <td>5.0</td>\n",
              "    </tr>\n",
              "    <tr>\n",
              "      <th>1182412</th>\n",
              "      <td>World Wide Stout</td>\n",
              "      <td>4.0</td>\n",
              "      <td>4.0</td>\n",
              "      <td>4.5</td>\n",
              "    </tr>\n",
              "    <tr>\n",
              "      <th>783649</th>\n",
              "      <td>Hell</td>\n",
              "      <td>4.5</td>\n",
              "      <td>4.0</td>\n",
              "      <td>4.5</td>\n",
              "    </tr>\n",
              "    <tr>\n",
              "      <th>1054111</th>\n",
              "      <td>Wittekerke</td>\n",
              "      <td>3.0</td>\n",
              "      <td>4.0</td>\n",
              "      <td>4.5</td>\n",
              "    </tr>\n",
              "    <tr>\n",
              "      <th>1182403</th>\n",
              "      <td>World Wide Stout</td>\n",
              "      <td>4.5</td>\n",
              "      <td>4.5</td>\n",
              "      <td>5.0</td>\n",
              "    </tr>\n",
              "    <tr>\n",
              "      <th>783640</th>\n",
              "      <td>Hell</td>\n",
              "      <td>4.5</td>\n",
              "      <td>5.0</td>\n",
              "      <td>5.0</td>\n",
              "    </tr>\n",
              "    <tr>\n",
              "      <th>1182401</th>\n",
              "      <td>World Wide Stout</td>\n",
              "      <td>4.0</td>\n",
              "      <td>4.0</td>\n",
              "      <td>4.5</td>\n",
              "    </tr>\n",
              "    <tr>\n",
              "      <th>895323</th>\n",
              "      <td>Stone 06.06.06 Vertical Epic Ale</td>\n",
              "      <td>4.0</td>\n",
              "      <td>4.0</td>\n",
              "      <td>4.5</td>\n",
              "    </tr>\n",
              "  </tbody>\n",
              "</table>\n",
              "</div>"
            ],
            "text/plain": [
              "                                beer_name  ...  review_taste\n",
              "1586613                The Horseman's Ale  ...           4.5\n",
              "1054114                        Wittekerke  ...           4.0\n",
              "783659                       Moe's Bender  ...           5.0\n",
              "783658                       Moe's Bender  ...           5.0\n",
              "1182432                  World Wide Stout  ...           4.0\n",
              "1182425                  World Wide Stout  ...           5.0\n",
              "1182416                  World Wide Stout  ...           5.0\n",
              "1182413                  World Wide Stout  ...           5.0\n",
              "1182412                  World Wide Stout  ...           4.5\n",
              "783649                               Hell  ...           4.5\n",
              "1054111                        Wittekerke  ...           4.5\n",
              "1182403                  World Wide Stout  ...           5.0\n",
              "783640                               Hell  ...           5.0\n",
              "1182401                  World Wide Stout  ...           4.5\n",
              "895323   Stone 06.06.06 Vertical Epic Ale  ...           4.5\n",
              "\n",
              "[15 rows x 4 columns]"
            ]
          },
          "metadata": {
            "tags": []
          },
          "execution_count": 117
        }
      ]
    },
    {
      "cell_type": "markdown",
      "metadata": {
        "id": "hmH05b5B1lrJ"
      },
      "source": [
        "### Top Breweries/beers with highest ratings and great taste"
      ]
    },
    {
      "cell_type": "code",
      "metadata": {
        "id": "ZhjJuTSo34nc"
      },
      "source": [
        "top_ratings_taste = reviews[['brewery_name','beer_name','review_overall','review_taste']]"
      ],
      "execution_count": null,
      "outputs": []
    },
    {
      "cell_type": "code",
      "metadata": {
        "colab": {
          "base_uri": "https://localhost:8080/",
          "height": 728
        },
        "id": "c5pFLsO8109I",
        "outputId": "2f85a36e-38ef-44ce-cd91-a0670938d1ac"
      },
      "source": [
        "top_ratings_taste = top_ratings_taste.groupby(['brewery_name','beer_name']).aggregate(['max'])\n",
        "top_ratings_taste.iloc[0:20]"
      ],
      "execution_count": null,
      "outputs": [
        {
          "output_type": "execute_result",
          "data": {
            "text/html": [
              "<div>\n",
              "<style scoped>\n",
              "    .dataframe tbody tr th:only-of-type {\n",
              "        vertical-align: middle;\n",
              "    }\n",
              "\n",
              "    .dataframe tbody tr th {\n",
              "        vertical-align: top;\n",
              "    }\n",
              "\n",
              "    .dataframe thead tr th {\n",
              "        text-align: left;\n",
              "    }\n",
              "\n",
              "    .dataframe thead tr:last-of-type th {\n",
              "        text-align: right;\n",
              "    }\n",
              "</style>\n",
              "<table border=\"1\" class=\"dataframe\">\n",
              "  <thead>\n",
              "    <tr>\n",
              "      <th></th>\n",
              "      <th></th>\n",
              "      <th>review_overall</th>\n",
              "      <th>review_taste</th>\n",
              "    </tr>\n",
              "    <tr>\n",
              "      <th></th>\n",
              "      <th></th>\n",
              "      <th>max</th>\n",
              "      <th>max</th>\n",
              "    </tr>\n",
              "    <tr>\n",
              "      <th></th>\n",
              "      <th></th>\n",
              "      <th>max</th>\n",
              "      <th>max</th>\n",
              "    </tr>\n",
              "    <tr>\n",
              "      <th>brewery_name</th>\n",
              "      <th>beer_name</th>\n",
              "      <th></th>\n",
              "      <th></th>\n",
              "    </tr>\n",
              "  </thead>\n",
              "  <tbody>\n",
              "    <tr>\n",
              "      <th rowspan=\"7\" valign=\"top\">'t Hofbrouwerijke</th>\n",
              "      <th>Blondelle</th>\n",
              "      <td>4.0</td>\n",
              "      <td>4.0</td>\n",
              "    </tr>\n",
              "    <tr>\n",
              "      <th>Bosprotter</th>\n",
              "      <td>4.5</td>\n",
              "      <td>4.5</td>\n",
              "    </tr>\n",
              "    <tr>\n",
              "      <th>Hof Korvatunturi</th>\n",
              "      <td>4.0</td>\n",
              "      <td>4.0</td>\n",
              "    </tr>\n",
              "    <tr>\n",
              "      <th>Hofblues</th>\n",
              "      <td>4.5</td>\n",
              "      <td>4.0</td>\n",
              "    </tr>\n",
              "    <tr>\n",
              "      <th>Hofdraak</th>\n",
              "      <td>4.5</td>\n",
              "      <td>4.0</td>\n",
              "    </tr>\n",
              "    <tr>\n",
              "      <th>Hofnar</th>\n",
              "      <td>3.0</td>\n",
              "      <td>3.5</td>\n",
              "    </tr>\n",
              "    <tr>\n",
              "      <th>Hoftrol</th>\n",
              "      <td>4.5</td>\n",
              "      <td>3.5</td>\n",
              "    </tr>\n",
              "    <tr>\n",
              "      <th rowspan=\"13\" valign=\"top\">(512) Brewing Company</th>\n",
              "      <th>(512) Alt</th>\n",
              "      <td>5.0</td>\n",
              "      <td>4.5</td>\n",
              "    </tr>\n",
              "    <tr>\n",
              "      <th>(512) Black IPA</th>\n",
              "      <td>4.5</td>\n",
              "      <td>4.5</td>\n",
              "    </tr>\n",
              "    <tr>\n",
              "      <th>(512) Brandy Barrel Aged ONE</th>\n",
              "      <td>4.5</td>\n",
              "      <td>4.5</td>\n",
              "    </tr>\n",
              "    <tr>\n",
              "      <th>(512) Bruin</th>\n",
              "      <td>4.5</td>\n",
              "      <td>5.0</td>\n",
              "    </tr>\n",
              "    <tr>\n",
              "      <th>(512) Cascabel Cream Stout</th>\n",
              "      <td>4.0</td>\n",
              "      <td>4.5</td>\n",
              "    </tr>\n",
              "    <tr>\n",
              "      <th>(512) IPA</th>\n",
              "      <td>5.0</td>\n",
              "      <td>5.0</td>\n",
              "    </tr>\n",
              "    <tr>\n",
              "      <th>(512) ONE</th>\n",
              "      <td>4.5</td>\n",
              "      <td>4.5</td>\n",
              "    </tr>\n",
              "    <tr>\n",
              "      <th>(512) Pale</th>\n",
              "      <td>5.0</td>\n",
              "      <td>4.5</td>\n",
              "    </tr>\n",
              "    <tr>\n",
              "      <th>(512) Pecan Porter</th>\n",
              "      <td>5.0</td>\n",
              "      <td>5.0</td>\n",
              "    </tr>\n",
              "    <tr>\n",
              "      <th>(512) TWO</th>\n",
              "      <td>5.0</td>\n",
              "      <td>5.0</td>\n",
              "    </tr>\n",
              "    <tr>\n",
              "      <th>(512) Three</th>\n",
              "      <td>4.5</td>\n",
              "      <td>4.5</td>\n",
              "    </tr>\n",
              "    <tr>\n",
              "      <th>(512) Whiskey Barrel Aged Double Pecan Porter</th>\n",
              "      <td>5.0</td>\n",
              "      <td>5.0</td>\n",
              "    </tr>\n",
              "    <tr>\n",
              "      <th>(512) Wit</th>\n",
              "      <td>5.0</td>\n",
              "      <td>4.5</td>\n",
              "    </tr>\n",
              "  </tbody>\n",
              "</table>\n",
              "</div>"
            ],
            "text/plain": [
              "                                                                    review_overall review_taste\n",
              "                                                                               max          max\n",
              "                                                                               max          max\n",
              "brewery_name          beer_name                                                                \n",
              "'t Hofbrouwerijke     Blondelle                                                4.0          4.0\n",
              "                      Bosprotter                                               4.5          4.5\n",
              "                      Hof Korvatunturi                                         4.0          4.0\n",
              "                      Hofblues                                                 4.5          4.0\n",
              "                      Hofdraak                                                 4.5          4.0\n",
              "                      Hofnar                                                   3.0          3.5\n",
              "                      Hoftrol                                                  4.5          3.5\n",
              "(512) Brewing Company (512) Alt                                                5.0          4.5\n",
              "                      (512) Black IPA                                          4.5          4.5\n",
              "                      (512) Brandy Barrel Aged ONE                             4.5          4.5\n",
              "                      (512) Bruin                                              4.5          5.0\n",
              "                      (512) Cascabel Cream Stout                               4.0          4.5\n",
              "                      (512) IPA                                                5.0          5.0\n",
              "                      (512) ONE                                                4.5          4.5\n",
              "                      (512) Pale                                               5.0          4.5\n",
              "                      (512) Pecan Porter                                       5.0          5.0\n",
              "                      (512) TWO                                                5.0          5.0\n",
              "                      (512) Three                                              4.5          4.5\n",
              "                      (512) Whiskey Barrel Aged Double Pecan Porter            5.0          5.0\n",
              "                      (512) Wit                                                5.0          4.5"
            ]
          },
          "metadata": {
            "tags": []
          },
          "execution_count": 128
        }
      ]
    },
    {
      "cell_type": "code",
      "metadata": {
        "colab": {
          "base_uri": "https://localhost:8080/",
          "height": 780
        },
        "id": "8VMMeT1CjXy2",
        "outputId": "680a0e99-b5e5-4f12-b0c6-9839d7611b2b"
      },
      "source": [
        "reshape = reviews[['review_overall','beer_name']].groupby('beer_name').agg(['count','mean'])\n",
        "print('Beer with review_overall more than 4: \\n',reshape[reshape['review_overall','mean']>4])\n",
        "print('Beer with review_overall more than 4 and review counts are greater than 200: \\n')\n",
        "Top_beers = pd.DataFrame(reshape[(reshape['review_overall','mean']>4) & (reshape['review_overall','count']>200)])\n",
        "Top_beers"
      ],
      "execution_count": null,
      "outputs": [
        {
          "output_type": "stream",
          "text": [
            "Beer with review_overall more than 4: \n",
            "                                      review_overall          \n",
            "                                              count      mean\n",
            "beer_name                                                    \n",
            "\"Hop Obama\" Ale                                  28  4.160714\n",
            "\"Little John's Myth\" Robust Porter                2  4.250000\n",
            "\"Not Guilty\" 1924 Deer Brand                      7  4.071429\n",
            "\"Not Your Bock\" Maibock                           1  4.500000\n",
            "\"Stout Stoat\" Stout                               2  4.250000\n",
            "...                                             ...       ...\n",
            "Über Alt                                         15  4.166667\n",
            "Über Blonde                                       1  4.500000\n",
            "Über Pils                                       228  4.057018\n",
            "ÜberSun (Imperial Summer Wheat Beer)            233  4.060086\n",
            "Ω-naught (Omeganaught)                            3  4.166667\n",
            "\n",
            "[9354 rows x 2 columns]\n",
            "Beer with review_overall more than 4 and review counts are greater than 200: \n",
            "\n"
          ],
          "name": "stdout"
        },
        {
          "output_type": "execute_result",
          "data": {
            "text/html": [
              "<div>\n",
              "<style scoped>\n",
              "    .dataframe tbody tr th:only-of-type {\n",
              "        vertical-align: middle;\n",
              "    }\n",
              "\n",
              "    .dataframe tbody tr th {\n",
              "        vertical-align: top;\n",
              "    }\n",
              "\n",
              "    .dataframe thead tr th {\n",
              "        text-align: left;\n",
              "    }\n",
              "\n",
              "    .dataframe thead tr:last-of-type th {\n",
              "        text-align: right;\n",
              "    }\n",
              "</style>\n",
              "<table border=\"1\" class=\"dataframe\">\n",
              "  <thead>\n",
              "    <tr>\n",
              "      <th></th>\n",
              "      <th colspan=\"2\" halign=\"left\">review_overall</th>\n",
              "    </tr>\n",
              "    <tr>\n",
              "      <th></th>\n",
              "      <th>count</th>\n",
              "      <th>mean</th>\n",
              "    </tr>\n",
              "    <tr>\n",
              "      <th>beer_name</th>\n",
              "      <th></th>\n",
              "      <th></th>\n",
              "    </tr>\n",
              "  </thead>\n",
              "  <tbody>\n",
              "    <tr>\n",
              "      <th>2009 Correction Ale</th>\n",
              "      <td>232</td>\n",
              "      <td>4.043103</td>\n",
              "    </tr>\n",
              "    <tr>\n",
              "      <th>2XIPA</th>\n",
              "      <td>703</td>\n",
              "      <td>4.075391</td>\n",
              "    </tr>\n",
              "    <tr>\n",
              "      <th>3 Monts</th>\n",
              "      <td>246</td>\n",
              "      <td>4.008130</td>\n",
              "    </tr>\n",
              "    <tr>\n",
              "      <th>30th Anniversary - Fritz And Ken's Ale</th>\n",
              "      <td>616</td>\n",
              "      <td>4.123377</td>\n",
              "    </tr>\n",
              "    <tr>\n",
              "      <th>30th Anniversary - Grand Cru</th>\n",
              "      <td>427</td>\n",
              "      <td>4.127635</td>\n",
              "    </tr>\n",
              "    <tr>\n",
              "      <th>...</th>\n",
              "      <td>...</td>\n",
              "      <td>...</td>\n",
              "    </tr>\n",
              "    <tr>\n",
              "      <th>Zombie Dust</th>\n",
              "      <td>383</td>\n",
              "      <td>4.516971</td>\n",
              "    </tr>\n",
              "    <tr>\n",
              "      <th>§ucaba (Abacus)</th>\n",
              "      <td>376</td>\n",
              "      <td>4.384309</td>\n",
              "    </tr>\n",
              "    <tr>\n",
              "      <th>Ølfabrikken Porter</th>\n",
              "      <td>327</td>\n",
              "      <td>4.206422</td>\n",
              "    </tr>\n",
              "    <tr>\n",
              "      <th>Über Pils</th>\n",
              "      <td>228</td>\n",
              "      <td>4.057018</td>\n",
              "    </tr>\n",
              "    <tr>\n",
              "      <th>ÜberSun (Imperial Summer Wheat Beer)</th>\n",
              "      <td>233</td>\n",
              "      <td>4.060086</td>\n",
              "    </tr>\n",
              "  </tbody>\n",
              "</table>\n",
              "<p>580 rows × 2 columns</p>\n",
              "</div>"
            ],
            "text/plain": [
              "                                       review_overall          \n",
              "                                                count      mean\n",
              "beer_name                                                      \n",
              "2009 Correction Ale                               232  4.043103\n",
              "2XIPA                                             703  4.075391\n",
              "3 Monts                                           246  4.008130\n",
              "30th Anniversary - Fritz And Ken's Ale            616  4.123377\n",
              "30th Anniversary - Grand Cru                      427  4.127635\n",
              "...                                               ...       ...\n",
              "Zombie Dust                                       383  4.516971\n",
              "§ucaba (Abacus)                                   376  4.384309\n",
              "Ølfabrikken Porter                                327  4.206422\n",
              "Über Pils                                         228  4.057018\n",
              "ÜberSun (Imperial Summer Wheat Beer)              233  4.060086\n",
              "\n",
              "[580 rows x 2 columns]"
            ]
          },
          "metadata": {
            "tags": []
          },
          "execution_count": 129
        }
      ]
    },
    {
      "cell_type": "code",
      "metadata": {
        "colab": {
          "base_uri": "https://localhost:8080/",
          "height": 698
        },
        "id": "R3n-Ma57mtji",
        "outputId": "1698cbb6-ef8e-4ddc-af02-2382bad8d861"
      },
      "source": [
        "## Now getting Top 20 Most reviewed and Most highly Rated beers\n",
        "Top_beers = Top_beers.sort_values(by = ([('review_overall','count'),('review_overall','mean')]),ascending = False).iloc[0:20]\n",
        "Top_beers"
      ],
      "execution_count": null,
      "outputs": [
        {
          "output_type": "execute_result",
          "data": {
            "text/html": [
              "<div>\n",
              "<style scoped>\n",
              "    .dataframe tbody tr th:only-of-type {\n",
              "        vertical-align: middle;\n",
              "    }\n",
              "\n",
              "    .dataframe tbody tr th {\n",
              "        vertical-align: top;\n",
              "    }\n",
              "\n",
              "    .dataframe thead tr th {\n",
              "        text-align: left;\n",
              "    }\n",
              "\n",
              "    .dataframe thead tr:last-of-type th {\n",
              "        text-align: right;\n",
              "    }\n",
              "</style>\n",
              "<table border=\"1\" class=\"dataframe\">\n",
              "  <thead>\n",
              "    <tr>\n",
              "      <th></th>\n",
              "      <th colspan=\"2\" halign=\"left\">review_overall</th>\n",
              "    </tr>\n",
              "    <tr>\n",
              "      <th></th>\n",
              "      <th>count</th>\n",
              "      <th>mean</th>\n",
              "    </tr>\n",
              "    <tr>\n",
              "      <th>beer_name</th>\n",
              "      <th></th>\n",
              "      <th></th>\n",
              "    </tr>\n",
              "  </thead>\n",
              "  <tbody>\n",
              "    <tr>\n",
              "      <th>90 Minute IPA</th>\n",
              "      <td>3206</td>\n",
              "      <td>4.149719</td>\n",
              "    </tr>\n",
              "    <tr>\n",
              "      <th>Old Rasputin Russian Imperial Stout</th>\n",
              "      <td>3038</td>\n",
              "      <td>4.177090</td>\n",
              "    </tr>\n",
              "    <tr>\n",
              "      <th>Sierra Nevada Celebration Ale</th>\n",
              "      <td>2929</td>\n",
              "      <td>4.172072</td>\n",
              "    </tr>\n",
              "    <tr>\n",
              "      <th>Stone Ruination IPA</th>\n",
              "      <td>2644</td>\n",
              "      <td>4.165469</td>\n",
              "    </tr>\n",
              "    <tr>\n",
              "      <th>Arrogant Bastard Ale</th>\n",
              "      <td>2633</td>\n",
              "      <td>4.082605</td>\n",
              "    </tr>\n",
              "    <tr>\n",
              "      <th>Two Hearted Ale</th>\n",
              "      <td>2631</td>\n",
              "      <td>4.332763</td>\n",
              "    </tr>\n",
              "    <tr>\n",
              "      <th>Stone IPA (India Pale Ale)</th>\n",
              "      <td>2526</td>\n",
              "      <td>4.260095</td>\n",
              "    </tr>\n",
              "    <tr>\n",
              "      <th>Sierra Nevada Pale Ale</th>\n",
              "      <td>2526</td>\n",
              "      <td>4.252375</td>\n",
              "    </tr>\n",
              "    <tr>\n",
              "      <th>La Fin Du Monde</th>\n",
              "      <td>2480</td>\n",
              "      <td>4.297984</td>\n",
              "    </tr>\n",
              "    <tr>\n",
              "      <th>Duvel</th>\n",
              "      <td>2448</td>\n",
              "      <td>4.342320</td>\n",
              "    </tr>\n",
              "    <tr>\n",
              "      <th>Founders Breakfast Stout</th>\n",
              "      <td>2443</td>\n",
              "      <td>4.359394</td>\n",
              "    </tr>\n",
              "    <tr>\n",
              "      <th>Pliny The Elder</th>\n",
              "      <td>2432</td>\n",
              "      <td>4.598273</td>\n",
              "    </tr>\n",
              "    <tr>\n",
              "      <th>60 Minute IPA</th>\n",
              "      <td>2429</td>\n",
              "      <td>4.173940</td>\n",
              "    </tr>\n",
              "    <tr>\n",
              "      <th>Brooklyn Black Chocolate Stout</th>\n",
              "      <td>2405</td>\n",
              "      <td>4.036798</td>\n",
              "    </tr>\n",
              "    <tr>\n",
              "      <th>Storm King Stout</th>\n",
              "      <td>2392</td>\n",
              "      <td>4.090092</td>\n",
              "    </tr>\n",
              "    <tr>\n",
              "      <th>Bell's Hopslam Ale</th>\n",
              "      <td>2347</td>\n",
              "      <td>4.380486</td>\n",
              "    </tr>\n",
              "    <tr>\n",
              "      <th>Samuel Adams Boston Lager</th>\n",
              "      <td>2347</td>\n",
              "      <td>4.048999</td>\n",
              "    </tr>\n",
              "    <tr>\n",
              "      <th>Stone Imperial Russian Stout</th>\n",
              "      <td>2285</td>\n",
              "      <td>4.245952</td>\n",
              "    </tr>\n",
              "    <tr>\n",
              "      <th>HopDevil Ale</th>\n",
              "      <td>2239</td>\n",
              "      <td>4.113667</td>\n",
              "    </tr>\n",
              "    <tr>\n",
              "      <th>Dead Guy Ale</th>\n",
              "      <td>2192</td>\n",
              "      <td>4.049042</td>\n",
              "    </tr>\n",
              "  </tbody>\n",
              "</table>\n",
              "</div>"
            ],
            "text/plain": [
              "                                    review_overall          \n",
              "                                             count      mean\n",
              "beer_name                                                   \n",
              "90 Minute IPA                                 3206  4.149719\n",
              "Old Rasputin Russian Imperial Stout           3038  4.177090\n",
              "Sierra Nevada Celebration Ale                 2929  4.172072\n",
              "Stone Ruination IPA                           2644  4.165469\n",
              "Arrogant Bastard Ale                          2633  4.082605\n",
              "Two Hearted Ale                               2631  4.332763\n",
              "Stone IPA (India Pale Ale)                    2526  4.260095\n",
              "Sierra Nevada Pale Ale                        2526  4.252375\n",
              "La Fin Du Monde                               2480  4.297984\n",
              "Duvel                                         2448  4.342320\n",
              "Founders Breakfast Stout                      2443  4.359394\n",
              "Pliny The Elder                               2432  4.598273\n",
              "60 Minute IPA                                 2429  4.173940\n",
              "Brooklyn Black Chocolate Stout                2405  4.036798\n",
              "Storm King Stout                              2392  4.090092\n",
              "Bell's Hopslam Ale                            2347  4.380486\n",
              "Samuel Adams Boston Lager                     2347  4.048999\n",
              "Stone Imperial Russian Stout                  2285  4.245952\n",
              "HopDevil Ale                                  2239  4.113667\n",
              "Dead Guy Ale                                  2192  4.049042"
            ]
          },
          "metadata": {
            "tags": []
          },
          "execution_count": 130
        }
      ]
    },
    {
      "cell_type": "markdown",
      "metadata": {
        "id": "e-fkC6HHucg7"
      },
      "source": [
        "Above 20 Beers are mostly reviewed and highly rated,so recommended for users with it. "
      ]
    }
  ]
}